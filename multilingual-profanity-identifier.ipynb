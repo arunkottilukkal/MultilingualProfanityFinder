{
 "cells": [
  {
   "cell_type": "code",
   "execution_count": 1,
   "id": "aa89cd96",
   "metadata": {
    "execution": {
     "iopub.execute_input": "2022-10-13T04:35:18.732617Z",
     "iopub.status.busy": "2022-10-13T04:35:18.731173Z",
     "iopub.status.idle": "2022-10-13T04:35:18.811525Z",
     "shell.execute_reply": "2022-10-13T04:35:18.810865Z"
    },
    "papermill": {
     "duration": 0.088081,
     "end_time": "2022-10-13T04:35:18.811687",
     "exception": false,
     "start_time": "2022-10-13T04:35:18.723606",
     "status": "completed"
    },
    "tags": []
   },
   "outputs": [],
   "source": [
    "import pandas as pd\n",
    "import numpy as np"
   ]
  },
  {
   "cell_type": "code",
   "execution_count": 2,
   "id": "6b504ca8",
   "metadata": {
    "execution": {
     "iopub.execute_input": "2022-10-13T04:35:18.830769Z",
     "iopub.status.busy": "2022-10-13T04:35:18.821756Z",
     "iopub.status.idle": "2022-10-13T04:35:19.828996Z",
     "shell.execute_reply": "2022-10-13T04:35:19.828507Z"
    },
    "papermill": {
     "duration": 1.013703,
     "end_time": "2022-10-13T04:35:19.829119",
     "exception": false,
     "start_time": "2022-10-13T04:35:18.815416",
     "status": "completed"
    },
    "tags": []
   },
   "outputs": [
    {
     "name": "stdout",
     "output_type": "stream",
     "text": [
      "Thu Oct 13 04:35:19 2022       \r\n",
      "+-----------------------------------------------------------------------------+\r\n",
      "| NVIDIA-SMI 470.82.01    Driver Version: 470.82.01    CUDA Version: 11.4     |\r\n",
      "|-------------------------------+----------------------+----------------------+\r\n",
      "| GPU  Name        Persistence-M| Bus-Id        Disp.A | Volatile Uncorr. ECC |\r\n",
      "| Fan  Temp  Perf  Pwr:Usage/Cap|         Memory-Usage | GPU-Util  Compute M. |\r\n",
      "|                               |                      |               MIG M. |\r\n",
      "|===============================+======================+======================|\r\n",
      "|   0  Tesla P100-PCIE...  Off  | 00000000:00:04.0 Off |                    0 |\r\n",
      "| N/A   35C    P0    27W / 250W |      0MiB / 16280MiB |      0%      Default |\r\n",
      "|                               |                      |                  N/A |\r\n",
      "+-------------------------------+----------------------+----------------------+\r\n",
      "                                                                               \r\n",
      "+-----------------------------------------------------------------------------+\r\n",
      "| Processes:                                                                  |\r\n",
      "|  GPU   GI   CI        PID   Type   Process name                  GPU Memory |\r\n",
      "|        ID   ID                                                   Usage      |\r\n",
      "|=============================================================================|\r\n",
      "|  No running processes found                                                 |\r\n",
      "+-----------------------------------------------------------------------------+\r\n"
     ]
    }
   ],
   "source": [
    "!nvidia-smi"
   ]
  },
  {
   "cell_type": "code",
   "execution_count": null,
   "id": "8f3a7b1a",
   "metadata": {
    "papermill": {
     "duration": 0.002851,
     "end_time": "2022-10-13T04:35:19.835615",
     "exception": false,
     "start_time": "2022-10-13T04:35:19.832764",
     "status": "completed"
    },
    "tags": []
   },
   "outputs": [],
   "source": []
  }
 ],
 "metadata": {
  "kernelspec": {
   "display_name": "Python 3",
   "language": "python",
   "name": "python3"
  },
  "language_info": {
   "codemirror_mode": {
    "name": "ipython",
    "version": 3
   },
   "file_extension": ".py",
   "mimetype": "text/x-python",
   "name": "python",
   "nbconvert_exporter": "python",
   "pygments_lexer": "ipython3",
   "version": "3.7.10"
  },
  "papermill": {
   "default_parameters": {},
   "duration": 8.618533,
   "end_time": "2022-10-13T04:35:21.129919",
   "environment_variables": {},
   "exception": null,
   "input_path": "__notebook__.ipynb",
   "output_path": "__notebook__.ipynb",
   "parameters": {},
   "start_time": "2022-10-13T04:35:12.511386",
   "version": "2.3.3"
  }
 },
 "nbformat": 4,
 "nbformat_minor": 5
}
